{
 "cells": [
  {
   "cell_type": "code",
   "execution_count": 16,
   "metadata": {},
   "outputs": [],
   "source": [
    "class course:\n",
    "    def __init__(self,course_code,course_name):\n",
    "        self.course_code=course_code\n",
    "        self.course_name=course_name\n",
    "    \n",
    "    def dislay_info(self):\n",
    "        print(f\"Course Code :{[self.course_code]} Course name is {[self.course_name]}\")\n",
    "class undergraduate(course):\n",
    "    def __init__(self, course_code, course_name, year_level):\n",
    "        super().__init__(course_code, course_name)\n",
    "        self.year_level=year_level\n",
    "    def additional_info(self):\n",
    "        print(f\"Year level of this course is {[self.year_level]}\")\n",
    "class graduate(course):\n",
    "    def __init__(self, course_code, course_name, research_area):\n",
    "        super().__init__(course_code, course_name)\n",
    "        self.research_area=research_area\n",
    "\n",
    "    def additional_info(self):\n",
    "        print(f\"The research area of this course is {[self.research_area]}\")\n",
    "\n",
    "def register_course():\n",
    "    course_type = input(\"Enter course type (Undergraduate/Graduate):\")\n",
    "    course_code = input(\"Enter course code: \")\n",
    "    course_name = input(\"Enter course name: \")\n",
    "\n",
    "    if course_type == \"undergraduate\":\n",
    "        year_level = input(\"Enter year level (e.g., 1, 2, 3, 4): \")\n",
    "        course = undergraduate(course_code, course_name, year_level)\n",
    "    elif course_type == \"graduate\":\n",
    "        research_area = input(\"Enter research area: \")\n",
    "        course = graduate(course_code, course_name, research_area)\n",
    "    else:\n",
    "        print(\"Invalid course type. Please enter either 'Undergraduate' or 'Graduate'.\")\n",
    "    \n",
    "    course.additional_info()\n",
    "    course.dislay_info()\n"
   ]
  },
  {
   "cell_type": "code",
   "execution_count": 17,
   "metadata": {},
   "outputs": [
    {
     "name": "stdout",
     "output_type": "stream",
     "text": [
      "The research area of this course is ['lahore']\n",
      "Course Code :['1221'] Course name is ['bsai']\n"
     ]
    }
   ],
   "source": [
    "register_course()"
   ]
  },
  {
   "cell_type": "code",
   "execution_count": null,
   "metadata": {},
   "outputs": [],
   "source": []
  }
 ],
 "metadata": {
  "kernelspec": {
   "display_name": "Python 3",
   "language": "python",
   "name": "python3"
  },
  "language_info": {
   "codemirror_mode": {
    "name": "ipython",
    "version": 3
   },
   "file_extension": ".py",
   "mimetype": "text/x-python",
   "name": "python",
   "nbconvert_exporter": "python",
   "pygments_lexer": "ipython3",
   "version": "3.12.2"
  }
 },
 "nbformat": 4,
 "nbformat_minor": 2
}

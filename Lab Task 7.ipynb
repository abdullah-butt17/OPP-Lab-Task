{
 "cells": [
  {
   "cell_type": "code",
   "execution_count": 36,
   "metadata": {},
   "outputs": [],
   "source": [
    "class vehicle:\n",
    "    def __init__(self,make,model):\n",
    "        self.make=make\n",
    "        self.model=model\n",
    "    def display_info(self):\n",
    "        print(f\"The Make of this car is {[self.make]} & Model is {[self.model]}\")\n",
    "\n",
    "class Car(vehicle):\n",
    "    def __init__(self, make, model, no_of_doors):\n",
    "        super().__init__(make, model)\n",
    "        self.no_of_doors=no_of_doors\n",
    "    def additional_info(self):\n",
    "        print(f\"The number of door is {[self.no_of_doors]}\")\n",
    "\n",
    "class LuxuryCar(Car):\n",
    "    def __init__(self, make, model, no_of_doors, feature):\n",
    "        super().__init__(make, model, no_of_doors)\n",
    "        self.feature=feature\n",
    "    def __str__(self):\n",
    "        return f\"The feacture of car is {[self.feature]}\""
   ]
  },
  {
   "cell_type": "code",
   "execution_count": 37,
   "metadata": {},
   "outputs": [
    {
     "name": "stdout",
     "output_type": "stream",
     "text": [
      "The Make of this car is ['Honda'] & Model is [2023]\n",
      "The number of door is [4]\n",
      "The feacture of car is ['Turbo']\n"
     ]
    }
   ],
   "source": [
    "car=LuxuryCar(\"Honda\",2023,4,\"Turbo\")\n",
    "car.display_info()\n",
    "car.additional_info()\n",
    "print(car)\n"
   ]
  },
  {
   "cell_type": "code",
   "execution_count": 43,
   "metadata": {},
   "outputs": [],
   "source": [
    "class Employee:\n",
    "    def __init__(self,name, position):\n",
    "        self.name=name\n",
    "        self.position=position\n",
    "    \n",
    "    def display_info(self):\n",
    "        print(f\"The name is {[self.name]} and The position is {[self.position]}\")\n",
    "class Manager(Employee):\n",
    "    def __init__(self, name, position,department):\n",
    "        super().__init__(name, position)\n",
    "        self.department=department\n",
    "    def additional_info(self):\n",
    "        print(f\"The department of manager is {[self.department]}\")\n",
    "\n",
    "class worker(Employee):\n",
    "    def __init__(self, name, position,hours):\n",
    "        super().__init__(name, position)\n",
    "        self.hours=hours\n",
    "    def __str__(self):\n",
    "        return f\"The {self.name} is a {self.position} the hours for him are {[self.hours]}\""
   ]
  },
  {
   "cell_type": "code",
   "execution_count": 44,
   "metadata": {},
   "outputs": [
    {
     "name": "stdout",
     "output_type": "stream",
     "text": [
      "The name is ['Abdullah'] and The position is ['Manager']\n",
      "The department of manager is ['Warehouse']\n",
      "The Ali is a Salesman the hours for him are [8]\n"
     ]
    }
   ],
   "source": [
    "detail=Manager(\"Abdullah\",\"Manager\",\"Warehouse\")\n",
    "detail2=worker(\"Ali\",\"Salesman\",8)\n",
    "detail.display_info()\n",
    "detail.additional_info()\n",
    "print(detail2)"
   ]
  },
  {
   "cell_type": "code",
   "execution_count": null,
   "metadata": {},
   "outputs": [],
   "source": []
  }
 ],
 "metadata": {
  "kernelspec": {
   "display_name": "Python 3",
   "language": "python",
   "name": "python3"
  },
  "language_info": {
   "codemirror_mode": {
    "name": "ipython",
    "version": 3
   },
   "file_extension": ".py",
   "mimetype": "text/x-python",
   "name": "python",
   "nbconvert_exporter": "python",
   "pygments_lexer": "ipython3",
   "version": "3.12.2"
  }
 },
 "nbformat": 4,
 "nbformat_minor": 2
}

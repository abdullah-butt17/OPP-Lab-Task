{
 "cells": [
  {
   "cell_type": "code",
   "execution_count": 39,
   "metadata": {},
   "outputs": [],
   "source": [
    "class library:\n",
    "    def __init__(self,title,author):\n",
    "        self.title=title\n",
    "        self.author=author\n",
    "    def display_info(self):\n",
    "        print(f\"The title of book is {[self.title]} & the author is {[self.author]}\")\n",
    "class Book(library):\n",
    "    def __init__(self,title, author,no_of_pages):\n",
    "        super().__init__(title,author)\n",
    "        self.no_of_pages=no_of_pages\n",
    "    def additional_info(self):\n",
    "        print(f\"The numbers of pages in this book is {[self.no_of_pages]}\")\n",
    "class magzine(library):\n",
    "    def __init__(self,title,author,issue_number):\n",
    "        super().__init__(title,author)\n",
    "        self.issue_number=issue_number\n",
    "    def additional_info(self):\n",
    "        print(f\"The issue number of this magzine is {[self.issue_number]}\")"
   ]
  },
  {
   "cell_type": "code",
   "execution_count": 40,
   "metadata": {},
   "outputs": [
    {
     "name": "stdout",
     "output_type": "stream",
     "text": [
      "The title of book is ['Clash of romans'] & the author is ['Micheal']\n",
      "The numbers of pages in this book is [253]\n",
      "The issue number of this magzine is [1022134]\n"
     ]
    }
   ],
   "source": [
    "num=Book(\"Clash of romans\",\"Micheal\",253)\n",
    "serial=magzine(\"Daily\",\"Ahmad\",1022134)\n",
    "num.display_info()\n",
    "num.additional_info()\n",
    "serial.additional_info()"
   ]
  },
  {
   "cell_type": "code",
   "execution_count": null,
   "metadata": {},
   "outputs": [],
   "source": []
  }
 ],
 "metadata": {
  "kernelspec": {
   "display_name": "Python 3",
   "language": "python",
   "name": "python3"
  },
  "language_info": {
   "codemirror_mode": {
    "name": "ipython",
    "version": 3
   },
   "file_extension": ".py",
   "mimetype": "text/x-python",
   "name": "python",
   "nbconvert_exporter": "python",
   "pygments_lexer": "ipython3",
   "version": "3.12.2"
  }
 },
 "nbformat": 4,
 "nbformat_minor": 2
}
